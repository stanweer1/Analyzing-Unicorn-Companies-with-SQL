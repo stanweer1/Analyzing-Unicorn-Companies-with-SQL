{
 "cells": [
  {
   "cell_type": "markdown",
   "id": "33dda299-ad0e-4262-b285-7d1297a3ba66",
   "metadata": {},
   "source": [
    "![Hand with calculator](calculator.jpg)\n",
    "\n",
    "Did you know that the average return from investing in stocks is [10% per year](https://www.nerdwallet.com/article/investing/average-stock-market-return) (not accounting for inflation)? But who wants to be average?! \n",
    "\n",
    "You have been asked to support an investment firm by analyzing trends in high-growth companies. They are interested in understanding which industries are producing the highest valuations and the rate at which new high-value companies are emerging. Providing them with this information gives them a competitive insight as to industry trends and how they should structure their portfolio looking forward.\n",
    "\n",
    "You have been given access to their `unicorns` database, which contains the following tables:\n",
    "\n",
    "## dates\n",
    "| Column       | Description                                  |\n",
    "|------------- |--------------------------------------------- |\n",
    "| `company_id`   | A unique ID for the company.                 |\n",
    "| `date_joined` | The date that the company became a unicorn.  |\n",
    "| `year_founded` | The year that the company was founded.       |\n",
    "\n",
    "## funding\n",
    "| Column           | Description                                  |\n",
    "|----------------- |--------------------------------------------- |\n",
    "| `company_id`       | A unique ID for the company.                 |\n",
    "| `valuation`        | Company value in US dollars.                 |\n",
    "| `funding`          | The amount of funding raised in US dollars.  |\n",
    "| `select_investors` | A list of key investors in the company.      |\n",
    "\n",
    "## industries\n",
    "| Column       | Description                                  |\n",
    "|------------- |--------------------------------------------- |\n",
    "| `company_id`   | A unique ID for the company.                 |\n",
    "| `industry`     | The industry that the company operates in.   |\n",
    "\n",
    "## companies\n",
    "| Column       | Description                                       |\n",
    "|------------- |-------------------------------------------------- |\n",
    "| `company_id`   | A unique ID for the company.                      |\n",
    "| `company`      | The name of the company.                          |\n",
    "| `city`         | The city where the company is headquartered.      |\n",
    "| `country`      | The country where the company is headquartered.   |\n",
    "| `continent`    | The continent where the company is headquartered. |\n"
   ]
  },
  {
   "cell_type": "markdown",
   "id": "48a34f18-9207-4a1d-9c91-0b1a4aec770d",
   "metadata": {},
   "source": [
    "# The output\n",
    "\n",
    "Your query should return a table in the following format:\n",
    "| industry  | year | num\\_unicorns       | average\\_valuation\\_billions |\n",
    "| --------- | ---- | ------------------- | ---------------------------- |\n",
    "| industry1 | 2021 |        ---          |             ---              |\n",
    "| industry2 | 2020 |        ---          |             ---              |\n",
    "| industry3 | 2019 |        ---          |             ---              |\n",
    "| industry1 | 2021 |        ---          |             ---              |\n",
    "| industry2 | 2020 |        ---          |             ---              |\n",
    "| industry3 | 2019 |        ---          |             ---              |\n",
    "| industry1 | 2021 |        ---          |             ---              |\n",
    "| industry2 | 2020 |        ---          |             ---              |\n",
    "| industry3 | 2019 |        ---          |             ---              |\n",
    "\n",
    "Where `industry1`, `industry2`, and `industry3` are the three top-performing industries."
   ]
  },
  {
   "cell_type": "markdown",
   "id": "bf801109",
   "metadata": {},
   "source": [
    "Your task is to first identify the three best-performing industries based on the number of new unicorns created in 2019, 2020, and 2021 combined.\n",
    "\n",
    "From those industries (1), you will need to find the number of unicorns within these industries (2), the year that they became a unicorn (3), and their average valuation, converted to billions of dollars and rounded to two decimal places (4).\n",
    "\n",
    "With the above information you can then finish your query to return a table containing industry, year, num_unicorns, and average_valuation_billions. For readability, the firm have asked you to sort your results by year and number of unicorns, both in descending order."
   ]
  },
  {
   "cell_type": "markdown",
   "id": "596f2113",
   "metadata": {},
   "source": []
  }
 ],
 "metadata": {
  "colab": {
   "name": "Welcome to DataCamp Workspaces.ipynb",
   "provenance": []
  },
  "kernelspec": {
   "display_name": "Python 3 (ipykernel)",
   "language": "python",
   "name": "python3"
  },
  "language_info": {
   "codemirror_mode": {
    "name": "ipython",
    "version": 3
   },
   "file_extension": ".py",
   "mimetype": "text/x-python",
   "name": "python",
   "nbconvert_exporter": "python",
   "pygments_lexer": "ipython3",
   "version": "3.8.10"
  }
 },
 "nbformat": 4,
 "nbformat_minor": 5
}
